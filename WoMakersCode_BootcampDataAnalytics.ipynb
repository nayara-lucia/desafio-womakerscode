{
  "nbformat": 4,
  "nbformat_minor": 0,
  "metadata": {
    "colab": {
      "provenance": [],
      "include_colab_link": true
    },
    "kernelspec": {
      "name": "python3",
      "display_name": "Python 3"
    },
    "language_info": {
      "name": "python"
    }
  },
  "cells": [
    {
      "cell_type": "markdown",
      "metadata": {
        "id": "view-in-github",
        "colab_type": "text"
      },
      "source": [
        "<a href=\"https://colab.research.google.com/github/nayara-lucia/desafio-womakerscode/blob/main/WoMakersCode_BootcampDataAnalytics.ipynb\" target=\"_parent\"><img src=\"https://colab.research.google.com/assets/colab-badge.svg\" alt=\"Open In Colab\"/></a>"
      ]
    },
    {
      "cell_type": "markdown",
      "source": [
        "1 ) Para determinar se um candidato está qualificado para uma vaga de emprego, são aplicados dois critérios:\n",
        "\n",
        "a) O candidato deve ter uma presença igual ou superior a 60% em um treinamento obrigatório.\n",
        "\n",
        "b) O candidato deve ter uma média de desempenho igual ou superior a 7 em uma série de testes.\n",
        "\n",
        "Para auxiliar na avaliação dos candidatos, você deve criar uma função que recebe uma lista de dicionários contendo o nome do candidato, a média de desempenho e a quantidade de horas de ausência do treinamento. Com esses dados, a função deve calcular se o candidato está qualificado ou não. A presença do candidato é calculada considerando que o treinamento teve um total de 60 horas e utilizando a fórmula:\n",
        "\n",
        "(Total horas - número de faltas)/Total horas * 100;\n"
      ],
      "metadata": {
        "id": "3UpM724I5C19"
      }
    },
    {
      "cell_type": "code",
      "source": [
        "candidato_dados = {\n",
        "    \"João\": {\"media\": 9, \"ausencia_horas\": 3},\n",
        "    \"Maria\": {\"media\": 8, \"ausencia_horas\": 2},\n",
        "    \"Pedro\": {\"media\": 2, \"ausencia_horas\": 40},\n",
        "    \"Ana\": {\"media\": 1.75, \"ausencia_horas\": 40},\n",
        "    \"Lucas\": {\"media\": 5, \"ausencia_horas\": 10}\n",
        "}\n",
        "\n",
        "\n",
        "\n",
        "def verificar_aprovacao(candidato_dados):\n",
        "    for candidato in candidato_dados:\n",
        "      presenca = (60 - candidato_dados[candidato][\"ausencia_horas\"]) / 60 * 100\n",
        "      if presenca >= 60 and candidato_dados[candidato][\"media\"] >= 7:\n",
        "        print(f\"{candidato}: aprovado\")\n",
        "      else:\n",
        "        print(f\"{candidato}:reprovado\")\n",
        "\n",
        "\n",
        "verificar_aprovacao(candidato_dados)"
      ],
      "metadata": {
        "id": "Xv1MnjPQvkSt",
        "colab": {
          "base_uri": "https://localhost:8080/"
        },
        "outputId": "4176d2f5-25a4-40af-d66a-b905ab834bb8"
      },
      "execution_count": 18,
      "outputs": [
        {
          "output_type": "stream",
          "name": "stdout",
          "text": [
            "João: aprovado\n",
            "Maria: aprovado\n",
            "Pedro:reprovado\n",
            "Ana:reprovado\n",
            "Lucas:reprovado\n"
          ]
        }
      ]
    },
    {
      "cell_type": "markdown",
      "source": [
        "2) Crie uma função que recebe uma palavra (string), separa todos os caracteres em uma lista, retorna esta lista e quantidade de letras."
      ],
      "metadata": {
        "id": "fKKdyWo55e8w"
      }
    },
    {
      "cell_type": "code",
      "source": [
        "def separa_caracteres(palavra):\n",
        "    separacao = list(palavra)\n",
        "    return separacao, len(palavra)\n",
        "\n",
        "palavra = \"abacaxi\"\n",
        "separa_caracteres(palavra)"
      ],
      "metadata": {
        "id": "Qq7QoqubvjbG",
        "colab": {
          "base_uri": "https://localhost:8080/"
        },
        "outputId": "e9bde2f5-9b07-476e-9db2-c320d66887bc"
      },
      "execution_count": 27,
      "outputs": [
        {
          "output_type": "execute_result",
          "data": {
            "text/plain": [
              "(['a', 'b', 'a', 'c', 'a', 'x', 'i'], 7)"
            ]
          },
          "metadata": {},
          "execution_count": 27
        }
      ]
    },
    {
      "cell_type": "markdown",
      "source": [
        "3) Crie um programa que leia quanto dinheiro uma pessoa tem na carteira, e calcule quanto poderia comprar de cada moeda estrangeira. Considere a tabela de conversão abaixo:\n",
        "\n",
        "Valor convertido em real:\n",
        "*   Dólar Americano: 4,91\n",
        "*   Peso Argentino: 0,02\n",
        "*   Dólar Australiano: 3,18\n",
        "*   Dólar Canadense: 3,64\n",
        "*   Franco Suiço: 0,42\n",
        "*   Euro:  5,36\n",
        "*   Libra esterlina: 6,21\n",
        "\n",
        "\n",
        "\n",
        "\n",
        "\n",
        "\n",
        "\n"
      ],
      "metadata": {
        "id": "EEXxWdjH5sju"
      }
    },
    {
      "cell_type": "code",
      "source": [
        "moedas = {\n",
        "    'dolar americano': {\"conversao\": 4.91},\n",
        "    'pesos argentinos':  {\"conversao\":  0.02},\n",
        "    'dolar australiano':  {\"conversao\":  3.18},\n",
        "    'dolar canadense':  {\"conversao\":  3.64},\n",
        "    'franco suico':   {\"conversao\":  0.42},\n",
        "    'euro':  {\"conversao\":  5.36},\n",
        "    'libra esterlina':  {\"conversao\":  6.21}\n",
        "}\n",
        "\n",
        "def calculo_moedas(carteira, moedas):\n",
        "  for moeda in moedas:\n",
        "    convertido = carteira / moedas[moeda][\"conversao\"]\n",
        "    centavos = carteira  % moedas[moeda][\"conversao\"]\n",
        "    print(f\"{moeda}: {convertido:.0f} {moeda} e {cents:.2f} centavos\")\n",
        "\n",
        "carteira = float(input(\"Digite o valor possuído: \"))\n",
        "calculo_moedas(carteira, moedas)\n",
        "\n"
      ],
      "metadata": {
        "id": "BFil1HpZvbFg",
        "colab": {
          "base_uri": "https://localhost:8080/"
        },
        "outputId": "be7e68be-ab15-40f6-bc8e-7d8d6e6b4e1b"
      },
      "execution_count": 174,
      "outputs": [
        {
          "output_type": "stream",
          "name": "stdout",
          "text": [
            "Digite o valor possuído: 5\n",
            "dolar americano: 1 dolar americano e 0.93 centavos\n",
            "pesos argentinos: 250 pesos argentinos e 0.93 centavos\n",
            "dolar australiano: 2 dolar australiano e 0.93 centavos\n",
            "dolar canadense: 1 dolar canadense e 0.93 centavos\n",
            "franco suico: 12 franco suico e 0.93 centavos\n",
            "euro: 1 euro e 0.93 centavos\n",
            "libra esterlina: 1 libra esterlina e 0.93 centavos\n"
          ]
        }
      ]
    },
    {
      "cell_type": "markdown",
      "source": [
        "\n",
        "4) O chefe decidiu premiar os melhores funcionários de sua empresa com um brinde. Para isso ela vai entregar um brinde para todos os funcionários que tiverem uma performance superior a média da equipe.\n",
        "\n",
        "Elabore uma função que recebe uma lista de nome em formato de dict (dicionário) com nome do funcionário e a média do funcionário (Valor de 0 a 10). Esta função deve calcular a média da equipe, identificar quais funcionários tem média igual ou superior a média da equipe e retornar uma lista com o nome dos funcionários que possuem média igual ou superior a média da equipe. A ordem dos nomes da lista de retorno deve ser em ordem decrescente."
      ],
      "metadata": {
        "id": "Tj2Ds76-6FXs"
      }
    },
    {
      "cell_type": "code",
      "source": [
        "import statistics as sts\n",
        "\n",
        "def premiacao(funcionarios):\n",
        "    media_equipe = []\n",
        "    for funcionario in funcionarios:\n",
        "      media_equipe.append(funcionarios[funcionario][\"performance\"])\n",
        "    media = sts.mean(media_equipe)\n",
        "    for funcionario in funcionarios:\n",
        "      if funcionarios[funcionario][\"performance\"] >= media:\n",
        "        print(f\"{funcionario}: ganhou brinde\")\n",
        "      else:\n",
        "        print(f\"{funcionario}: perdeu\")\n",
        "\n",
        "\n",
        "\n",
        "funcionarios  = {\n",
        "    \"João\": {\"performance\": 9},\n",
        "    \"Maria\": {\"performance\": 8},\n",
        "    \"Pedro\": {\"performance\": 2},\n",
        "    \"Ana\": {\"performance\": 1},\n",
        "    \"Lucas\": {\"performance\": 5}\n",
        "}\n",
        "\n",
        "premiacao(funcionarios)\n"
      ],
      "metadata": {
        "id": "poEG0mnOvgSO",
        "colab": {
          "base_uri": "https://localhost:8080/"
        },
        "outputId": "cf901672-6cb5-4b9c-b298-6c1876c5f8da"
      },
      "execution_count": 70,
      "outputs": [
        {
          "output_type": "stream",
          "name": "stdout",
          "text": [
            "João: ganhou brinde\n",
            "Maria: ganhou brinde\n",
            "Pedro: perdeu\n",
            "Ana: perdeu\n",
            "Lucas: ganhou brinde\n"
          ]
        }
      ]
    },
    {
      "cell_type": "markdown",
      "source": [
        "5) Na variável países_ano, temos uma lista de listas, em que cada elemento é uma lista de dois elementos, em que o primeiro é o nome de um país e o segundo é o ano em que a nação foi fundada."
      ],
      "metadata": {
        "id": "pVSP5n1T_ZWQ"
      }
    },
    {
      "cell_type": "code",
      "source": [
        "lista_paises = [[\"Brasil\", \"1500\"],[\"Mexico\",\"1519\"], [\"Inglaterra\", \"927\"], [\"Espanha\",\"1978\"], [\"Escocia\", \"843\"]]"
      ],
      "metadata": {
        "id": "zRywrNff01he"
      },
      "execution_count": null,
      "outputs": []
    },
    {
      "cell_type": "markdown",
      "source": [
        "Você deseja criar uma nova lista de listas a partir do exemplo (lista_paises), em que cada elemento é uma lista de dois elementos, sendo o primeiro o nome do país (como é na lista original) e o segundo é o número de anos desde a fundação do país (considere que o ano atual é 2023)."
      ],
      "metadata": {
        "id": "OpU-UWXC01Ca"
      }
    },
    {
      "cell_type": "code",
      "source": [
        "lista_paises = [[\"Brasil\", \"1500\"],[\"Mexico\",\"1519\"], [\"Inglaterra\", \"927\"], [\"Espanha\",\"1978\"], [\"Escocia\", \"843\"]]\n",
        "\n",
        "lista_paises_new = []\n",
        "\n",
        "for elemento in lista_paises:\n",
        "    nova_lista = [elemento[0], 2023 - int(elemento[1])]\n",
        "    lista_paises_new.append(nova_lista)\n",
        "\n",
        "print(lista_paises_new)\n"
      ],
      "metadata": {
        "id": "xaEQxcMFvhVa",
        "colab": {
          "base_uri": "https://localhost:8080/"
        },
        "outputId": "79bca113-4365-4da3-d2d4-5b45b70fb8d3"
      },
      "execution_count": 87,
      "outputs": [
        {
          "output_type": "stream",
          "name": "stdout",
          "text": [
            "[['Brasil', 523], ['Mexico', 504], ['Inglaterra', 1096], ['Espanha', 45], ['Escocia', 1180]]\n"
          ]
        }
      ]
    },
    {
      "cell_type": "markdown",
      "source": [
        "6) Um jogador de um jogo de vídeo game deseja subir de nível em seu personagem ao atingir 50 inimigos derrotados. Enquanto esse número não é alcançado, uma mensagem indicando quantos inimigos ainda faltam é exibida na tela.\n"
      ],
      "metadata": {
        "id": "_qb748YiCzh-"
      }
    },
    {
      "cell_type": "code",
      "source": [
        "import random\n",
        "\n",
        "inimigos_derrotados = 0\n",
        "nivel = 0\n",
        "\n",
        "\n",
        "\n",
        "while (inimigos_derrotados < 50):\n",
        "    numero_aleatorio = random.randint(0, 50)\n",
        "\n",
        "    inimigos_derrotados = inimigos_derrotados + numero_aleatorio\n",
        "    print(f\"Inimigos derrotados nessa fase: {numero_aleatorio}\")\n",
        "    if inimigos_derrotados >= 50:\n",
        "      print(\"Você atingiu o próximo nível!\")\n",
        "      nivel = nivel + 1\n",
        "    else:\n",
        "      print(f\"Faltam {50 - inimigos_derrotados} inimigos para você mudar de nível! \\n\")\n",
        "\n",
        "\n",
        "print(f\"\\nNível: {nivel}\")\n"
      ],
      "metadata": {
        "id": "wooL40fJi_gj",
        "colab": {
          "base_uri": "https://localhost:8080/"
        },
        "outputId": "da505e65-9a98-4183-e817-d7ddc6687d19"
      },
      "execution_count": 122,
      "outputs": [
        {
          "output_type": "stream",
          "name": "stdout",
          "text": [
            "Inimigos derrotados nessa fase: 33\n",
            "Faltam 17 inimigos para você mudar de nível! \n",
            "\n",
            "Inimigos derrotados nessa fase: 12\n",
            "Faltam 5 inimigos para você mudar de nível! \n",
            "\n",
            "Inimigos derrotados nessa fase: 43\n",
            "Você atingiu o próximo nível!\n",
            "\n",
            "Nível: 1\n"
          ]
        }
      ]
    }
  ]
}